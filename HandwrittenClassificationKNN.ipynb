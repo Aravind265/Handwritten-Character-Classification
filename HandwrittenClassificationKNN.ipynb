{
  "nbformat": 4,
  "nbformat_minor": 0,
  "metadata": {
    "colab": {
      "name": "HandwrittenClassificationKNN.ipynb",
      "provenance": []
    },
    "kernelspec": {
      "name": "python3",
      "display_name": "Python 3"
    },
    "language_info": {
      "name": "python"
    }
  },
  "cells": [
    {
      "cell_type": "code",
      "metadata": {
        "id": "aiM-x-XqOkWm"
      },
      "source": [
        "from __future__ import print_function\n",
        "from sklearn.model_selection import train_test_split\n",
        "from sklearn.neighbors import KNeighborsClassifier\n",
        "from sklearn.metrics import confusion_matrix\n",
        "from sklearn.metrics import classification_report\n",
        "from sklearn import datasets\n",
        "from skimage import exposure\n",
        "import numpy as np\n",
        "import cv2\n",
        "import matplotlib.pyplot as plt"
      ],
      "execution_count": null,
      "outputs": []
    },
    {
      "cell_type": "code",
      "metadata": {
        "id": "GFp4Pb0DO2fY"
      },
      "source": [
        "mnist = datasets.load_digits() #Loading the dataset"
      ],
      "execution_count": null,
      "outputs": []
    },
    {
      "cell_type": "code",
      "metadata": {
        "id": "CoOedpA0O6w0"
      },
      "source": [
        "train_x, test_x, train_y, test_y = train_test_split(np.array(mnist.data),mnist.target, test_size=0.25, random_state=42) "
      ],
      "execution_count": null,
      "outputs": []
    },
    {
      "cell_type": "code",
      "metadata": {
        "id": "xUM1_jYMO-4K"
      },
      "source": [
        "train_x, val_x, train_y, val_y = train_test_split(train_x, train_y,test_size=0.1, random_state=84) #10% of training data is used for validation"
      ],
      "execution_count": null,
      "outputs": []
    },
    {
      "cell_type": "code",
      "metadata": {
        "colab": {
          "base_uri": "https://localhost:8080/"
        },
        "id": "yUodA1VFPIEr",
        "outputId": "33d4af7e-3c0f-4199-bbc3-f7f7f2191906"
      },
      "source": [
        "print(f\"Training data points: {len(train_y)}\")\n",
        "print(f\"Validation data points: {len(val_y)}\")\n",
        "print(f\"Testing data points: {len(test_y)}\")"
      ],
      "execution_count": null,
      "outputs": [
        {
          "output_type": "stream",
          "name": "stdout",
          "text": [
            "Training data points: 1212\n",
            "Validation data points: 135\n",
            "Testing data points: 450\n"
          ]
        }
      ]
    },
    {
      "cell_type": "code",
      "metadata": {
        "id": "7PD_hrq0PcKs"
      },
      "source": [
        "k_values = range(1, 30, 2) #Initialize k - values\n",
        "accuracies = []"
      ],
      "execution_count": null,
      "outputs": []
    },
    {
      "cell_type": "code",
      "metadata": {
        "colab": {
          "base_uri": "https://localhost:8080/"
        },
        "id": "XitAopypPfac",
        "outputId": "83a4dd39-ddd0-4608-e19d-9507cc850b64"
      },
      "source": [
        "print(\"Accuracy for different values of k,\") #Calculating accuracies for all k - values\n",
        "for k in range(1, 30, 2):\n",
        "    model = KNeighborsClassifier(n_neighbors = k)\n",
        "    model.fit(train_x, train_y)\n",
        "    score = model.score(val_x, val_y)\n",
        "    print(\"For k = %d the accuracy is %.2f%%\" % (k, score * 100))\n",
        "    accuracies.append(score)"
      ],
      "execution_count": null,
      "outputs": [
        {
          "output_type": "stream",
          "name": "stdout",
          "text": [
            "Accuracy for different values of k,\n",
            "For k = 1 the accuracy is 99.26%\n",
            "For k = 3 the accuracy is 99.26%\n",
            "For k = 5 the accuracy is 99.26%\n",
            "For k = 7 the accuracy is 99.26%\n",
            "For k = 9 the accuracy is 99.26%\n",
            "For k = 11 the accuracy is 99.26%\n",
            "For k = 13 the accuracy is 99.26%\n",
            "For k = 15 the accuracy is 99.26%\n",
            "For k = 17 the accuracy is 98.52%\n",
            "For k = 19 the accuracy is 98.52%\n",
            "For k = 21 the accuracy is 97.78%\n",
            "For k = 23 the accuracy is 97.04%\n",
            "For k = 25 the accuracy is 97.78%\n",
            "For k = 27 the accuracy is 97.04%\n",
            "For k = 29 the accuracy is 97.04%\n"
          ]
        }
      ]
    },
    {
      "cell_type": "code",
      "metadata": {
        "colab": {
          "base_uri": "https://localhost:8080/"
        },
        "id": "EVXlbSZ2Pp3U",
        "outputId": "593c0557-0d35-4b58-a411-167de3cf9692"
      },
      "source": [
        "i = np.argmax(accuracies) #Choosing the best k - value\n",
        "print(\"For k = %d accuracy is %.2f%% on validation data, which is the highest\" % (k_values[i],accuracies[i] * 100))"
      ],
      "execution_count": null,
      "outputs": [
        {
          "output_type": "stream",
          "name": "stdout",
          "text": [
            "For k = 1 accuracy is 99.26% on validation data, which is the highest\n"
          ]
        }
      ]
    },
    {
      "cell_type": "code",
      "metadata": {
        "id": "eeagAkDRPtsT"
      },
      "source": [
        "model = KNeighborsClassifier(n_neighbors=k_values[i])\n",
        "model.fit(train_x, train_y)\n",
        "predictions = model.predict(test_x)"
      ],
      "execution_count": null,
      "outputs": []
    },
    {
      "cell_type": "code",
      "metadata": {
        "colab": {
          "base_uri": "https://localhost:8080/"
        },
        "id": "EHx0SvXXP9pw",
        "outputId": "785ce52d-3511-4e8d-eb4a-ad6a8e102809"
      },
      "source": [
        "print(\"Classifiaction Report on Test data:\")\n",
        "print(classification_report(test_y, predictions))"
      ],
      "execution_count": null,
      "outputs": [
        {
          "output_type": "stream",
          "name": "stdout",
          "text": [
            "Classifiaction Report on Test data:\n",
            "              precision    recall  f1-score   support\n",
            "\n",
            "           0       1.00      1.00      1.00        43\n",
            "           1       0.95      1.00      0.97        37\n",
            "           2       1.00      1.00      1.00        38\n",
            "           3       0.98      0.98      0.98        46\n",
            "           4       0.98      0.98      0.98        55\n",
            "           5       0.98      1.00      0.99        59\n",
            "           6       1.00      1.00      1.00        45\n",
            "           7       1.00      0.98      0.99        41\n",
            "           8       0.97      0.95      0.96        38\n",
            "           9       0.96      0.94      0.95        48\n",
            "\n",
            "    accuracy                           0.98       450\n",
            "   macro avg       0.98      0.98      0.98       450\n",
            "weighted avg       0.98      0.98      0.98       450\n",
            "\n"
          ]
        }
      ]
    },
    {
      "cell_type": "code",
      "metadata": {
        "colab": {
          "base_uri": "https://localhost:8080/"
        },
        "id": "1XbyhbU3P_Km",
        "outputId": "be91dda3-1e19-4dd0-a06e-58d8c2ae3ae2"
      },
      "source": [
        "print (\"Confusion matrix:\")\n",
        "print(confusion_matrix(test_y,predictions))"
      ],
      "execution_count": null,
      "outputs": [
        {
          "output_type": "stream",
          "name": "stdout",
          "text": [
            "Confusion matrix:\n",
            "[[43  0  0  0  0  0  0  0  0  0]\n",
            " [ 0 37  0  0  0  0  0  0  0  0]\n",
            " [ 0  0 38  0  0  0  0  0  0  0]\n",
            " [ 0  0  0 45  0  0  0  0  1  0]\n",
            " [ 0  1  0  0 54  0  0  0  0  0]\n",
            " [ 0  0  0  0  0 59  0  0  0  0]\n",
            " [ 0  0  0  0  0  0 45  0  0  0]\n",
            " [ 0  0  0  0  0  0  0 40  0  1]\n",
            " [ 0  1  0  0  0  0  0  0 36  1]\n",
            " [ 0  0  0  1  1  1  0  0  0 45]]\n"
          ]
        }
      ]
    },
    {
      "cell_type": "code",
      "metadata": {
        "colab": {
          "base_uri": "https://localhost:8080/",
          "height": 1000
        },
        "id": "EAv8LFpEQC7-",
        "outputId": "d9db1f26-8947-459e-fad9-5389e132fd4f"
      },
      "source": [
        "for i in np.random.randint(0, high=len(test_y), size=(5,)): #Predicting for random images in the test set\n",
        "         image = test_x[i]\n",
        "         prediction = model.predict([image])[0]\n",
        "         imgdata = np.array(image, dtype='float')\n",
        "         pixels = imgdata.reshape((8,8))\n",
        "         plt.imshow(pixels,cmap='gray')\n",
        "         plt.annotate(prediction,(3,3),bbox={'facecolor':'white'},fontsize=16)\n",
        "         print(f\"Prediction : {prediction}\")\n",
        "         plt.show()"
      ],
      "execution_count": null,
      "outputs": [
        {
          "output_type": "stream",
          "name": "stdout",
          "text": [
            "Prediction : 7\n"
          ]
        },
        {
          "output_type": "display_data",
          "data": {
            "image/png": "[encoded data removed]",
            "text/plain": [
              "<Figure size 432x288 with 1 Axes>"
            ]
          },
          "metadata": {
            "needs_background": "light"
          }
        },
        {
          "output_type": "stream",
          "name": "stdout",
          "text": [
            "Prediction : 4\n"
          ]
        },
        {
          "output_type": "display_data",
          "data": {
            "image/png": "[encoded data removed]",
            "text/plain": [
              "<Figure size 432x288 with 1 Axes>"
            ]
          },
          "metadata": {
            "needs_background": "light"
          }
        },
        {
          "output_type": "stream",
          "name": "stdout",
          "text": [
            "Prediction : 1\n"
          ]
        },
        {
          "output_type": "display_data",
          "data": {
            "image/png": "[encoded data removed]",
            "text/plain": [
              "<Figure size 432x288 with 1 Axes>"
            ]
          },
          "metadata": {
            "needs_background": "light"
          }
        },
        {
          "output_type": "stream",
          "name": "stdout",
          "text": [
            "Prediction : 7\n"
          ]
        },
        {
          "output_type": "display_data",
          "data": {
            "image/png": "[encoded data removed]",
            "text/plain": [
              "<Figure size 432x288 with 1 Axes>"
            ]
          },
          "metadata": {
            "needs_background": "light"
          }
        },
        {
          "output_type": "stream",
          "name": "stdout",
          "text": [
            "Prediction : 5\n"
          ]
        },
        {
          "output_type": "display_data",
          "data": {
            "image/png": "[encoded data removed]",
            "text/plain": [
              "<Figure size 432x288 with 1 Axes>"
            ]
          },
          "metadata": {
            "needs_background": "light"
          }
        }
      ]
    }
  ]
}